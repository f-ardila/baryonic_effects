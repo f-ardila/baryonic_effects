{
 "cells": [
  {
   "cell_type": "markdown",
   "metadata": {},
   "source": [
    "# Trying to explain 'lensing is too low' through baryonic effects "
   ]
  },
  {
   "cell_type": "markdown",
   "metadata": {},
   "source": [
    "using baryonification model to match lensing in measurements"
   ]
  },
  {
   "cell_type": "markdown",
   "metadata": {},
   "source": [
    "[Saito et al. 2016](https://ui.adsabs.harvard.edu/abs/2016MNRAS.460.1457S/abstract) (for wp)"
   ]
  },
  {
   "cell_type": "markdown",
   "metadata": {},
   "source": [
    "Lange et al. 2019 and Wibking et al. 2019 discuss 'lensing is low'"
   ]
  },
  {
   "cell_type": "markdown",
   "metadata": {},
   "source": [
    "1) Use halo tools to generate an HOD and plot a CMASS like wp and DS\n",
    "\n",
    "2) Apply the displacement model and redo wp and DS with the same HOD. How are the two plots different?"
   ]
  },
  {
   "cell_type": "code",
   "execution_count": 126,
   "metadata": {},
   "outputs": [],
   "source": [
    "import numpy as np\n",
    "import matplotlib.pyplot as plt\n",
    "\n",
    "import pandas as pd\n",
    "\n",
    "from astropy.io import ascii\n",
    "\n",
    "from halotools.sim_manager import UserSuppliedHaloCatalog, UserSuppliedPtclCatalog\n",
    "\n",
    "from astropy.cosmology import Planck15"
   ]
  },
  {
   "cell_type": "markdown",
   "metadata": {},
   "source": [
    "## CMASS data "
   ]
  },
  {
   "cell_type": "code",
   "execution_count": 94,
   "metadata": {},
   "outputs": [],
   "source": [
    "data_dir = '/Users/fardila/Documents/GitHub/baryonic_effects/CMASS/data/'\n",
    "wp_data_file = 'wpNSdebiasedboss5003.txt'\n",
    "ds_data_file = 'cmass_deltasigma_0.43_0.7.txt'"
   ]
  },
  {
   "cell_type": "code",
   "execution_count": 95,
   "metadata": {},
   "outputs": [],
   "source": [
    "wp_data = ascii.read(data_dir+wp_data_file, names = ['rp','wp','wp_err'])\n",
    "ds_data = ascii.read(data_dir+ds_data_file, names = ['rp','ds','ds_err'])"
   ]
  },
  {
   "cell_type": "markdown",
   "metadata": {},
   "source": [
    "## simulation: MDPL2 "
   ]
  },
  {
   "cell_type": "markdown",
   "metadata": {},
   "source": [
    "### load catalogs "
   ]
  },
  {
   "cell_type": "markdown",
   "metadata": {},
   "source": [
    "TODO: add correct catalogs"
   ]
  },
  {
   "cell_type": "code",
   "execution_count": 96,
   "metadata": {},
   "outputs": [],
   "source": [
    "data_directory = '/Users/fardila/Documents/Data/baryonic_effects/CMASS/'\n",
    "halo_cat_file = 'halo_catalogs/mdpl2_hlist_0.65650_Mvir11.2.csv'\n",
    "### \"row_id\",\"Mvir\",\"Rvir\",\"M200c\",\"M500c\",\"x\",\"y\",\"z\",\"scale\"\n",
    "particle_cat_file = 'particle_catalogs/mdpl2_particles_0.6565_10m.dat'\n",
    "### \"x\",\"y\",\"z\""
   ]
  },
  {
   "cell_type": "code",
   "execution_count": 16,
   "metadata": {},
   "outputs": [
    {
     "name": "stdout",
     "output_type": "stream",
     "text": [
      "CPU times: user 2min 50s, sys: 4.34 s, total: 2min 55s\n",
      "Wall time: 2min 55s\n"
     ]
    }
   ],
   "source": [
    "# import csv\n",
    "# full_halo_catalog = csv.reader( open(data_directory+halo_cat_file))\n",
    "# # %time row_id = [row[0] for row in full_halo_catalog]"
   ]
  },
  {
   "cell_type": "markdown",
   "metadata": {},
   "source": [
    "much faster with pandas"
   ]
  },
  {
   "cell_type": "code",
   "execution_count": 19,
   "metadata": {},
   "outputs": [
    {
     "name": "stdout",
     "output_type": "stream",
     "text": [
      "CPU times: user 1min 48s, sys: 26.3 s, total: 2min 14s\n",
      "Wall time: 2min 16s\n"
     ]
    }
   ],
   "source": [
    "# %time halo_df = pd.read_csv(data_directory+halo_cat_file)"
   ]
  },
  {
   "cell_type": "code",
   "execution_count": 97,
   "metadata": {},
   "outputs": [
    {
     "name": "stderr",
     "output_type": "stream",
     "text": [
      "/Users/fardila/anaconda2/envs/baryonic_effects/lib/python3.7/site-packages/ipykernel_launcher.py:2: ParserWarning: Falling back to the 'python' engine because the 'c' engine does not support regex separators (separators > 1 char and different from '\\s+' are interpreted as regex); you can avoid this warning by specifying engine='python'.\n",
      "  \n"
     ]
    }
   ],
   "source": [
    "halo_df = pd.read_csv(data_directory+halo_cat_file)\n",
    "particles_df = pd.read_csv(data_directory+particle_cat_file, delimiter ='     ', names=['x','y','z'])"
   ]
  },
  {
   "cell_type": "code",
   "execution_count": 98,
   "metadata": {},
   "outputs": [],
   "source": [
    "ptcl_x = particles_df['x'].values\n",
    "ptcl_y = particles_df['y'].values\n",
    "ptcl_z = particles_df['z'].values"
   ]
  },
  {
   "cell_type": "code",
   "execution_count": 122,
   "metadata": {},
   "outputs": [],
   "source": [
    "redshift = (1./0.65650)-1. #z=0.523\n",
    "Lbox = 1000.\n",
    "particle_mass = 1.51e9\n",
    "num_ptcl_per_dim = 3840\n",
    "x = halo_df['x'].values\n",
    "y = halo_df['y'].values\n",
    "z = halo_df['z'].values\n",
    "vx = halo_df['vx'].values\n",
    "vy = halo_df['vy'].values\n",
    "vz = halo_df['vz'].values\n",
    "mass = halo_df['Mvir'].values\n",
    "radius = halo_df['Rvir'].values\n",
    "ids = halo_df['row_id'].values #np.arange(0, len(halo_catalog))\n",
    "simname = 'MDPL2'\n",
    "upid = halo_df['upId'].values"
   ]
  },
  {
   "cell_type": "code",
   "execution_count": 104,
   "metadata": {},
   "outputs": [],
   "source": [
    "#get concentrations\n",
    "from halotools.empirical_models import NFWProfile\n",
    "\n",
    "nfw = NFWProfile(redshift=redshift, mdef = 'vir',conc_mass_model = 'dutton_maccio14')\n",
    "\n",
    "model_conc = nfw.conc_NFWmodel(prim_haloprop = mass)"
   ]
  },
  {
   "cell_type": "code",
   "execution_count": 123,
   "metadata": {},
   "outputs": [],
   "source": [
    "ptclcat = UserSuppliedPtclCatalog(x = ptcl_x, y = ptcl_y, z = ptcl_z, Lbox = Lbox, particle_mass = particle_mass,\n",
    "                                  redshift = redshift)\n",
    "halo_catalog = UserSuppliedHaloCatalog(user_supplied_ptclcat = ptclcat, redshift = redshift, simname = simname,\n",
    "                                       Lbox = Lbox, particle_mass = particle_mass, num_ptcl_per_dim =num_ptcl_per_dim,\n",
    "                                       halo_x = x, halo_y = y, halo_z = z,\n",
    "                                       halo_vx = vx, halo_vy = vy, halo_vz = vz, \n",
    "                                       halo_id = ids, halo_mvir = mass, halo_rvir = radius,\n",
    "                                       halo_nfw_conc = model_conc, halo_upid = upid )\n"
   ]
  },
  {
   "cell_type": "code",
   "execution_count": 124,
   "metadata": {},
   "outputs": [],
   "source": [
    "#add hostid\n",
    "add_halo_hostid(halo_catalog.halo_table)"
   ]
  },
  {
   "cell_type": "markdown",
   "metadata": {},
   "source": [
    "### create HOD "
   ]
  },
  {
   "cell_type": "markdown",
   "metadata": {},
   "source": [
    "TODO: adjust HOD model to match [Johannes' paper](https://ui.adsabs.harvard.edu/abs/2019MNRAS.488.5771L/abstract)"
   ]
  },
  {
   "cell_type": "code",
   "execution_count": 107,
   "metadata": {},
   "outputs": [],
   "source": [
    "from halotools.empirical_models import PrebuiltHodModelFactory, HodModelFactory\n",
    "from halotools.sim_manager import FakeSim\n",
    "from halotools.mock_observables import return_xyz_formatted_array\n",
    "from halotools.utils import add_halo_hostid\n"
   ]
  },
  {
   "cell_type": "code",
   "execution_count": 134,
   "metadata": {},
   "outputs": [],
   "source": [
    "AssembiasZheng07Cens = PrebuiltHodModelFactory('zheng07', redshift = redshift)"
   ]
  },
  {
   "cell_type": "code",
   "execution_count": 135,
   "metadata": {},
   "outputs": [
    {
     "ename": "TypeError",
     "evalue": "__init__() takes 2 positional arguments but 4 were given",
     "output_type": "error",
     "traceback": [
      "\u001b[0;31m---------------------------------------------------------------------------\u001b[0m",
      "\u001b[0;31mTypeError\u001b[0m                                 Traceback (most recent call last)",
      "\u001b[0;32m<ipython-input-135-4cab10c983c2>\u001b[0m in \u001b[0;36m<module>\u001b[0;34m\u001b[0m\n\u001b[1;32m      1\u001b[0m \u001b[0;31m#create new HOD model. code from Johannes\u001b[0m\u001b[0;34m\u001b[0m\u001b[0;34m\u001b[0m\u001b[0;34m\u001b[0m\u001b[0m\n\u001b[1;32m      2\u001b[0m \u001b[0;34m\u001b[0m\u001b[0m\n\u001b[0;32m----> 3\u001b[0;31m \u001b[0;32mclass\u001b[0m \u001b[0mIncompleteAssembiasZheng07Cens\u001b[0m\u001b[0;34m(\u001b[0m\u001b[0mAssembiasZheng07Cens\u001b[0m\u001b[0;34m)\u001b[0m\u001b[0;34m:\u001b[0m\u001b[0;34m\u001b[0m\u001b[0;34m\u001b[0m\u001b[0m\n\u001b[0m\u001b[1;32m      4\u001b[0m \u001b[0;34m\u001b[0m\u001b[0m\n\u001b[1;32m      5\u001b[0m     \u001b[0;32mdef\u001b[0m \u001b[0m__init__\u001b[0m\u001b[0;34m(\u001b[0m\u001b[0mself\u001b[0m\u001b[0;34m,\u001b[0m \u001b[0;34m**\u001b[0m\u001b[0mkwargs\u001b[0m\u001b[0;34m)\u001b[0m\u001b[0;34m:\u001b[0m\u001b[0;34m\u001b[0m\u001b[0;34m\u001b[0m\u001b[0m\n",
      "\u001b[0;31mTypeError\u001b[0m: __init__() takes 2 positional arguments but 4 were given"
     ]
    }
   ],
   "source": [
    "#create new HOD model. code from Johannes\n",
    "\n",
    "class IncompleteAssembiasZheng07Cens(AssembiasZheng07Cens):\n",
    "\n",
    "    def __init__(self, **kwargs):\n",
    "        AssembiasZheng07Cens.__init__(self, **kwargs)\n",
    "        self.param_dict['f_compl'] = 1.0\n",
    "\n",
    "    def mean_occupation(self, **kwargs):\n",
    "        # Retrieve the array storing the mass-like variable\n",
    "        if 'table' in list(kwargs.keys()):\n",
    "            mass = kwargs['table'][self.prim_haloprop_key]\n",
    "        elif 'prim_haloprop' in list(kwargs.keys()):\n",
    "            mass = np.atleast_1d(kwargs['prim_haloprop'])\n",
    "        else:\n",
    "            msg = (\"\\nYou must pass either a ``table`` or ``prim_haloprop`` argument \\n\"\n",
    "                \"to the ``mean_occupation`` function of the ``Zheng07Cens`` class.\\n\")\n",
    "            raise HalotoolsError(msg)\n",
    "\n",
    "        logM = np.log10(mass)\n",
    "        mean_ncen = self.param_dict['f_compl']*0.5*(1.0 + erf(\n",
    "            (logM - self.param_dict['logMmin']) / self.param_dict['sigma_logM']))\n",
    "\n",
    "        return mean_ncen\n",
    "\n",
    "\n",
    "def halotools_model(sec_haloprop_key):\n",
    "\n",
    "    cens_occ_model = IncompleteAssembiasZheng07Cens(\n",
    "        threshold=-21.5, redshift=0.53, sec_haloprop_key=sec_haloprop_key)\n",
    "    cens_prof_model = TrivialPhaseSpace(redshift=0.53, cosmology=cosmology)\n",
    "    sats_occ_model = AssembiasZheng07Sats(\n",
    "        threshold=-21.5, redshift=0.53, modulate_with_cenocc=True,\n",
    "        cenocc_model=cens_occ_model, sec_haloprop_key=sec_haloprop_key)\n",
    "    sats_occ_model._suppress_repeated_param_warning = True\n",
    "    sats_prof_model = NFWPhaseSpace(redshift=0.53, cosmology=cosmology)\n",
    "\n",
    "    model = HodModelFactory(\n",
    "        centrals_occupation=cens_occ_model, centrals_profile=cens_prof_model,\n",
    "        satellites_occupation=sats_occ_model,\n",
    "        satellites_profile=sats_prof_model)\n",
    "\n",
    "    return model\n",
    "\n",
    "\n"
   ]
  },
  {
   "cell_type": "code",
   "execution_count": 108,
   "metadata": {},
   "outputs": [
    {
     "name": "stderr",
     "output_type": "stream",
     "text": [
      "/Users/fardila/anaconda2/envs/baryonic_effects/lib/python3.7/site-packages/halotools/empirical_models/phase_space_models/analytic_models/monte_carlo_helpers.py:205: FutureWarning: Using a non-tuple sequence for multidimensional indexing is deprecated; use `arr[tuple(seq)]` instead of `arr[seq]`. In the future this will be interpreted as an array index, `arr[np.array(seq)]`, which will result either in an error or a different result.\n",
      "  self.rad_prof_func_table_indices[digitized_param_list]\n",
      "/Users/fardila/anaconda2/envs/baryonic_effects/lib/python3.7/site-packages/halotools/empirical_models/phase_space_models/analytic_models/monte_carlo_helpers.py:522: FutureWarning: Using a non-tuple sequence for multidimensional indexing is deprecated; use `arr[tuple(seq)]` instead of `arr[seq]`. In the future this will be interpreted as an array index, `arr[np.array(seq)]`, which will result either in an error or a different result.\n",
      "  self.rad_prof_func_table_indices[digitized_param_list]\n",
      "/Users/fardila/anaconda2/envs/baryonic_effects/lib/python3.7/site-packages/halotools/empirical_models/phase_space_models/analytic_models/monte_carlo_helpers.py:205: FutureWarning: Using a non-tuple sequence for multidimensional indexing is deprecated; use `arr[tuple(seq)]` instead of `arr[seq]`. In the future this will be interpreted as an array index, `arr[np.array(seq)]`, which will result either in an error or a different result.\n",
      "  self.rad_prof_func_table_indices[digitized_param_list]\n",
      "/Users/fardila/anaconda2/envs/baryonic_effects/lib/python3.7/site-packages/halotools/empirical_models/phase_space_models/analytic_models/monte_carlo_helpers.py:522: FutureWarning: Using a non-tuple sequence for multidimensional indexing is deprecated; use `arr[tuple(seq)]` instead of `arr[seq]`. In the future this will be interpreted as an array index, `arr[np.array(seq)]`, which will result either in an error or a different result.\n",
      "  self.rad_prof_func_table_indices[digitized_param_list]\n"
     ]
    }
   ],
   "source": [
    "model_instance = PrebuiltHodModelFactory('zheng07', redshift = redshift) #, conc_mass_model = 'dutton_maccio14')\n",
    "\n",
    "# halo_catalog = FakeSim()\n",
    "model_instance.populate_mock(halo_catalog)\n",
    "\n",
    "model_instance.param_dict['logMmin'] = 12.1\n",
    "model_instance.mock.populate()"
   ]
  },
  {
   "cell_type": "code",
   "execution_count": 109,
   "metadata": {},
   "outputs": [],
   "source": [
    "x = model_instance.mock.galaxy_table['x']\n",
    "y = model_instance.mock.galaxy_table['y']\n",
    "z = model_instance.mock.galaxy_table['z']\n",
    "all_positions = return_xyz_formatted_array(x, y, z)"
   ]
  },
  {
   "cell_type": "code",
   "execution_count": 110,
   "metadata": {},
   "outputs": [],
   "source": [
    "px = model_instance.mock.ptcl_table['x']\n",
    "py = model_instance.mock.ptcl_table['y']\n",
    "pz = model_instance.mock.ptcl_table['z']\n",
    "\n",
    "# Nptcls_to_keep = int(1e4)\n",
    "# randomizer = np.random.random(len(model_instance.mock.ptcl_table))\n",
    "# sorted_randoms = np.sort(randomizer)\n",
    "# ptcl_mask = np.where(sorted_randoms < sorted_randoms[Nptcls_to_keep])[0]\n",
    "# particle_positions = return_xyz_formatted_array(px, py, pz, mask = ptcl_mask)\n",
    "particle_positions = return_xyz_formatted_array(px, py, pz)"
   ]
  },
  {
   "cell_type": "markdown",
   "metadata": {},
   "source": [
    "### measure clustering "
   ]
  },
  {
   "cell_type": "code",
   "execution_count": 111,
   "metadata": {},
   "outputs": [],
   "source": [
    "from halotools.mock_observables import wp"
   ]
  },
  {
   "cell_type": "code",
   "execution_count": 112,
   "metadata": {},
   "outputs": [],
   "source": [
    "pi_max = 40.\n",
    "rp_bins = np.logspace(-1,1.25,15)\n",
    "rp_bin_centers = (rp_bins[:1] + rp_bins[1:])/2.\n",
    "\n",
    "\n",
    "wp_all = wp(all_positions, rp_bins, pi_max, period=model_instance.mock.Lbox, num_threads='max')"
   ]
  },
  {
   "cell_type": "code",
   "execution_count": 131,
   "metadata": {},
   "outputs": [
    {
     "data": {
      "image/png": "[encoded data removed]",
      "text/plain": [
       "<Figure size 432x288 with 1 Axes>"
      ]
     },
     "metadata": {
      "needs_background": "light"
     },
     "output_type": "display_data"
    }
   ],
   "source": [
    "plt.errorbar(wp_data['rp'],wp_data['wp'], yerr = wp_data['wp_err'], label='CMASS')\n",
    "\n",
    "plt.plot(rp_bin_centers, wp_all, label=r'MDPL2')\n",
    "\n",
    "plt.loglog()\n",
    "plt.xticks(fontsize=20)\n",
    "plt.yticks(fontsize=20)\n",
    "plt.xlabel(r'$r_{\\rm p} $  $\\rm{[Mpc/h]}$', fontsize=25)\n",
    "plt.ylabel(r'$w_{\\rm p}(r_{\\rm p})$ $\\rm{[Mpc/h]}$', fontsize=25)\n",
    "# plt.title(r'$M_{\\ast} > 10^{10.25}M_{\\odot}$', fontsize=20)\n",
    "plt.legend(loc='best', fontsize=20)\n",
    "plt.show()\n"
   ]
  },
  {
   "cell_type": "markdown",
   "metadata": {},
   "source": [
    "## measure weak lensing "
   ]
  },
  {
   "cell_type": "code",
   "execution_count": 114,
   "metadata": {},
   "outputs": [],
   "source": [
    "from halotools.mock_observables import delta_sigma"
   ]
  },
  {
   "cell_type": "code",
   "execution_count": 127,
   "metadata": {},
   "outputs": [],
   "source": [
    "rp_bins = np.logspace(-1, 1, 15)\n",
    "\n",
    "particle_masses = halo_catalog.particle_mass\n",
    "period=model_instance.mock.Lbox\n",
    "downsampling_factor = (halo_catalog.num_ptcl_per_dim**3)/float(len(particle_positions))\n",
    "\n",
    "rp_bins = np.logspace(-1,1,15)\n",
    "\n",
    "rp, result_mstar11_in_mpc = delta_sigma(all_positions, particle_positions,\n",
    "                    particle_masses, downsampling_factor,\n",
    "                    rp_bins, period, cosmology=Planck15, num_threads='max')\n",
    "\n",
    "length_unit_conversion = 1e6\n",
    "result_mstar11_in_pc = result_mstar11_in_mpc/length_unit_conversion**2"
   ]
  },
  {
   "cell_type": "code",
   "execution_count": 130,
   "metadata": {},
   "outputs": [
    {
     "data": {
      "image/png": "[encoded data removed]",
      "text/plain": [
       "<Figure size 432x288 with 1 Axes>"
      ]
     },
     "metadata": {
      "needs_background": "light"
     },
     "output_type": "display_data"
    }
   ],
   "source": [
    "plt.errorbar(ds_data['rp'],ds_data['ds'], yerr = ds_data['ds_err'], label='CMASS')\n",
    "plt.plot(rp, result_mstar11_in_pc, label='MDPL2')\n",
    "plt.loglog()\n",
    "plt.xticks(fontsize=20)\n",
    "plt.yticks(fontsize=20)\n",
    "plt.xlabel(r'$r_{\\rm p} $  $\\rm{[Mpc/h]}$', fontsize=25)\n",
    "plt.ylabel(r'$\\Delta\\Sigma(R_{\\rm p})$  $[h M_{\\odot} / {\\rm pc}^2]$', fontsize=25)\n",
    "plt.legend(loc='best', fontsize=20)\n",
    "plt.show()"
   ]
  },
  {
   "cell_type": "code",
   "execution_count": null,
   "metadata": {},
   "outputs": [],
   "source": []
  }
 ],
 "metadata": {
  "kernelspec": {
   "display_name": "Python 3",
   "language": "python",
   "name": "python3"
  },
  "language_info": {
   "codemirror_mode": {
    "name": "ipython",
    "version": 3
   },
   "file_extension": ".py",
   "mimetype": "text/x-python",
   "name": "python",
   "nbconvert_exporter": "python",
   "pygments_lexer": "ipython3",
   "version": "3.7.3"
  }
 },
 "nbformat": 4,
 "nbformat_minor": 2
}
