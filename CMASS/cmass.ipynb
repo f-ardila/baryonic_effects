{
 "cells": [
  {
   "cell_type": "markdown",
   "metadata": {},
   "source": [
    "# Trying to explain 'lensing is too low' through baryonic effects "
   ]
  },
  {
   "cell_type": "markdown",
   "metadata": {},
   "source": [
    "using baryonification model to match lensing in measurements"
   ]
  },
  {
   "cell_type": "markdown",
   "metadata": {},
   "source": [
    "[Saito et al. 2016](https://ui.adsabs.harvard.edu/abs/2016MNRAS.460.1457S/abstract) (for wp)"
   ]
  },
  {
   "cell_type": "markdown",
   "metadata": {},
   "source": [
    "Lange et al. 2019 and Wibking et al. 2019 discuss 'lensing is low'"
   ]
  },
  {
   "cell_type": "markdown",
   "metadata": {},
   "source": [
    "1) Use halo tools to generate an HOD and plot a CMASS like wp and DS\n",
    "\n",
    "2) Apply the displacement model and redo wp and DS with the same HOD. How are the two plots different?"
   ]
  },
  {
   "cell_type": "code",
   "execution_count": 4,
   "metadata": {},
   "outputs": [],
   "source": [
    "import numpy as np\n",
    "import matplotlib.pyplot as plt\n",
    "\n",
    "from astropy.io import ascii\n"
   ]
  },
  {
   "cell_type": "markdown",
   "metadata": {},
   "source": [
    "## CMASS data "
   ]
  },
  {
   "cell_type": "code",
   "execution_count": 2,
   "metadata": {},
   "outputs": [],
   "source": [
    "data_dir = '/Users/fardila/Documents/GitHub/baryonic_effects/CMASS/data/'\n",
    "wp_data_file = 'wpNSdebiasedboss5003.txt'\n",
    "ds_data_file = 'cmass_deltasigma_0.43_0.7.txt'"
   ]
  },
  {
   "cell_type": "code",
   "execution_count": 18,
   "metadata": {},
   "outputs": [],
   "source": [
    "wp_data = ascii.read(data_dir+wp_data_file, names = ['rp','wp','wp_err'])\n",
    "ds_data = ascii.read(data_dir+ds_data_file, names = ['rp','ds','ds_err'])"
   ]
  },
  {
   "cell_type": "markdown",
   "metadata": {},
   "source": [
    "## simulation: MDPL2 "
   ]
  },
  {
   "cell_type": "markdown",
   "metadata": {},
   "source": [
    "### load catalogs "
   ]
  },
  {
   "cell_type": "markdown",
   "metadata": {},
   "source": [
    "TODO: add correct catalogs"
   ]
  },
  {
   "cell_type": "code",
   "execution_count": null,
   "metadata": {},
   "outputs": [],
   "source": [
    "halo_cat = \n",
    "particle_cat = "
   ]
  },
  {
   "cell_type": "code",
   "execution_count": null,
   "metadata": {},
   "outputs": [],
   "source": []
  },
  {
   "cell_type": "markdown",
   "metadata": {},
   "source": [
    "### create HOD "
   ]
  },
  {
   "cell_type": "markdown",
   "metadata": {},
   "source": [
    "TODO: adjust HOD model to match [Johannes' paper](https://ui.adsabs.harvard.edu/abs/2019MNRAS.488.5771L/abstract)"
   ]
  },
  {
   "cell_type": "code",
   "execution_count": 24,
   "metadata": {},
   "outputs": [
    {
     "name": "stderr",
     "output_type": "stream",
     "text": [
      "WARNING: AstropyDeprecationWarning: astropy.extern.six will be removed in 4.0, use the six module directly if it is still needed [astropy.extern.six]\n"
     ]
    }
   ],
   "source": [
    "from halotools.empirical_models import PrebuiltHodModelFactory\n",
    "from halotools.sim_manager import FakeSim\n",
    "from halotools.mock_observables import return_xyz_formatted_array\n",
    "\n"
   ]
  },
  {
   "cell_type": "code",
   "execution_count": 25,
   "metadata": {},
   "outputs": [
    {
     "name": "stderr",
     "output_type": "stream",
     "text": [
      "/Users/fardila/anaconda/envs/baryonic_effects/lib/python3.7/site-packages/halotools/empirical_models/phase_space_models/analytic_models/monte_carlo_helpers.py:205: FutureWarning: Using a non-tuple sequence for multidimensional indexing is deprecated; use `arr[tuple(seq)]` instead of `arr[seq]`. In the future this will be interpreted as an array index, `arr[np.array(seq)]`, which will result either in an error or a different result.\n",
      "  self.rad_prof_func_table_indices[digitized_param_list]\n",
      "/Users/fardila/anaconda/envs/baryonic_effects/lib/python3.7/site-packages/halotools/empirical_models/phase_space_models/analytic_models/monte_carlo_helpers.py:522: FutureWarning: Using a non-tuple sequence for multidimensional indexing is deprecated; use `arr[tuple(seq)]` instead of `arr[seq]`. In the future this will be interpreted as an array index, `arr[np.array(seq)]`, which will result either in an error or a different result.\n",
      "  self.rad_prof_func_table_indices[digitized_param_list]\n",
      "/Users/fardila/anaconda/envs/baryonic_effects/lib/python3.7/site-packages/halotools/empirical_models/phase_space_models/analytic_models/monte_carlo_helpers.py:205: FutureWarning: Using a non-tuple sequence for multidimensional indexing is deprecated; use `arr[tuple(seq)]` instead of `arr[seq]`. In the future this will be interpreted as an array index, `arr[np.array(seq)]`, which will result either in an error or a different result.\n",
      "  self.rad_prof_func_table_indices[digitized_param_list]\n",
      "/Users/fardila/anaconda/envs/baryonic_effects/lib/python3.7/site-packages/halotools/empirical_models/phase_space_models/analytic_models/monte_carlo_helpers.py:522: FutureWarning: Using a non-tuple sequence for multidimensional indexing is deprecated; use `arr[tuple(seq)]` instead of `arr[seq]`. In the future this will be interpreted as an array index, `arr[np.array(seq)]`, which will result either in an error or a different result.\n",
      "  self.rad_prof_func_table_indices[digitized_param_list]\n"
     ]
    }
   ],
   "source": [
    "model_instance = PrebuiltHodModelFactory('zheng07')\n",
    "\n",
    "halocat = FakeSim()\n",
    "model_instance.populate_mock(halocat)\n",
    "\n",
    "model_instance.param_dict['logMmin'] = 12.1\n",
    "model_instance.mock.populate()"
   ]
  },
  {
   "cell_type": "code",
   "execution_count": 39,
   "metadata": {},
   "outputs": [],
   "source": [
    "x = model_instance.mock.galaxy_table['x']\n",
    "y = model_instance.mock.galaxy_table['y']\n",
    "z = model_instance.mock.galaxy_table['z']\n",
    "all_positions = return_xyz_formatted_array(x, y, z)"
   ]
  },
  {
   "cell_type": "code",
   "execution_count": 43,
   "metadata": {},
   "outputs": [],
   "source": [
    "px = model_instance.mock.ptcl_table['x']\n",
    "py = model_instance.mock.ptcl_table['y']\n",
    "pz = model_instance.mock.ptcl_table['z']\n",
    "\n",
    "Nptcls_to_keep = int(1e4)\n",
    "randomizer = np.random.random(len(model_instance.mock.ptcl_table))\n",
    "sorted_randoms = np.sort(randomizer)\n",
    "ptcl_mask = np.where(sorted_randoms < sorted_randoms[Nptcls_to_keep])[0]\n",
    "particle_positions = return_xyz_formatted_array(px, py, pz, mask = ptcl_mask)"
   ]
  },
  {
   "cell_type": "markdown",
   "metadata": {},
   "source": [
    "### measure clustering "
   ]
  },
  {
   "cell_type": "code",
   "execution_count": 33,
   "metadata": {},
   "outputs": [],
   "source": [
    "from halotools.mock_observables import wp"
   ]
  },
  {
   "cell_type": "code",
   "execution_count": 37,
   "metadata": {},
   "outputs": [],
   "source": [
    "pi_max = 40.\n",
    "rp_bins = np.logspace(-1,1.25,15)\n",
    "rp_bin_centers = (rp_bins[:1] + rp_bins[1:])/2.\n",
    "\n",
    "\n",
    "wp_all = wp(all_positions, rp_bins, pi_max, period=model_instance.mock.Lbox, num_threads='max')"
   ]
  },
  {
   "cell_type": "code",
   "execution_count": 38,
   "metadata": {},
   "outputs": [
    {
     "data": {
      "image/png": "[encoded data removed]",
      "text/plain": [
       "<Figure size 432x288 with 1 Axes>"
      ]
     },
     "metadata": {
      "needs_background": "light"
     },
     "output_type": "display_data"
    }
   ],
   "source": [
    "plt.errorbar(wp_data['rp'],wp_data['wp'], yerr = wp_data['wp_err'], label='CMASS')\n",
    "\n",
    "plt.plot(rp_bin_centers, wp_all, label=r'simulated')\n",
    "\n",
    "plt.loglog()\n",
    "plt.xticks(fontsize=20)\n",
    "plt.yticks(fontsize=20)\n",
    "plt.xlabel(r'$r_{\\rm p} $  $\\rm{[Mpc/h]}$', fontsize=25)\n",
    "plt.ylabel(r'$w_{\\rm p}(r_{\\rm p})$ $\\rm{[Mpc/h]}$', fontsize=25)\n",
    "# plt.title(r'$M_{\\ast} > 10^{10.25}M_{\\odot}$', fontsize=20)\n",
    "plt.legend(loc='best', fontsize=20)\n",
    "plt.show()\n"
   ]
  },
  {
   "cell_type": "markdown",
   "metadata": {},
   "source": [
    "## measure weak lensing "
   ]
  },
  {
   "cell_type": "code",
   "execution_count": 46,
   "metadata": {},
   "outputs": [],
   "source": [
    "from halotools.mock_observables import delta_sigma"
   ]
  },
  {
   "cell_type": "code",
   "execution_count": 48,
   "metadata": {},
   "outputs": [],
   "source": [
    "rp_bins = np.logspace(-1, 1, 15)\n",
    "\n",
    "particle_masses = halocat.particle_mass\n",
    "period=model_instance.mock.Lbox\n",
    "downsampling_factor = (halocat.num_ptcl_per_dim**3)/float(len(particle_positions))\n",
    "\n",
    "rp_bins = np.logspace(-1,1,15)\n",
    "\n",
    "rp, result_mstar11_in_mpc = delta_sigma(all_positions, particle_positions,\n",
    "                    particle_masses, downsampling_factor,\n",
    "                    rp_bins, period, cosmology=halocat.cosmology, num_threads='max')\n",
    "\n",
    "length_unit_conversion = 1e6\n",
    "result_mstar11_in_pc = result_mstar11_in_mpc/length_unit_conversion**2"
   ]
  },
  {
   "cell_type": "code",
   "execution_count": 50,
   "metadata": {},
   "outputs": [
    {
     "data": {
      "image/png": "[encoded data removed]",
      "text/plain": [
       "<Figure size 432x288 with 1 Axes>"
      ]
     },
     "metadata": {
      "needs_background": "light"
     },
     "output_type": "display_data"
    }
   ],
   "source": [
    "\n",
    "plt.errorbar(ds_data['rp'],ds_data['ds'], yerr = ds_data['ds_err'], label='CMASS')\n",
    "plt.plot(rp, result_mstar11_in_pc, label='simulated')\n",
    "plt.loglog()\n",
    "plt.xticks(fontsize=20)\n",
    "plt.yticks(fontsize=20)\n",
    "plt.xlabel(r'$r_{\\rm p} $  $\\rm{[Mpc/h]}$', fontsize=25)\n",
    "plt.ylabel(r'$\\Delta\\Sigma(R_{\\rm p})$  $[h M_{\\odot} / {\\rm pc}^2]$', fontsize=25)\n",
    "plt.legend(loc='best', fontsize=20)\n",
    "plt.show()"
   ]
  },
  {
   "cell_type": "code",
   "execution_count": null,
   "metadata": {},
   "outputs": [],
   "source": []
  }
 ],
 "metadata": {
  "kernelspec": {
   "display_name": "Python 3",
   "language": "python",
   "name": "python3"
  },
  "language_info": {
   "codemirror_mode": {
    "name": "ipython",
    "version": 3
   },
   "file_extension": ".py",
   "mimetype": "text/x-python",
   "name": "python",
   "nbconvert_exporter": "python",
   "pygments_lexer": "ipython3",
   "version": "3.7.3"
  }
 },
 "nbformat": 4,
 "nbformat_minor": 2
}
