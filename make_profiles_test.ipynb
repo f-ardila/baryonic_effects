{
 "cells": [
  {
   "cell_type": "code",
   "execution_count": 41,
   "metadata": {},
   "outputs": [],
   "source": [
    "import baryonification as bfc\n",
    "\n",
    "from scipy.interpolate import splrep, splev\n",
    "from scipy.integrate import quad\n",
    "import matplotlib.pyplot as plt\n",
    "import numpy as np"
   ]
  },
  {
   "cell_type": "code",
   "execution_count": 2,
   "metadata": {},
   "outputs": [],
   "source": [
    "def cvir_fct(mvir):\n",
    "     \"\"\"\n",
    "     Concentrations form Dutton+Maccio (2014)\n",
    "     c200 (200 times RHOC)\n",
    "     Assumes PLANCK coismology\n",
    "     \"\"\"\n",
    "    A = 1.025\n",
    "    B = 0.097\n",
    "    return 10.0**A*(mvir/1.0e12)**(-B)\n",
    "\n",
    "def DeltaSigmas_from_density_profile(rbin,dens):\n",
    "    \n",
    "    dbin = rbin\n",
    "    Sig_DMO   = []\n",
    "    Sig_DMB   = []\n",
    "    avSig_DMO = []\n",
    "    avSig_DMB = []\n",
    "\n",
    "\n",
    "    densDMO_tck = splrep(rbin,dens['DMO'])\n",
    "    densDMB_tck = splrep(rbin,dens['DMB'])\n",
    "\n",
    "    for i in range(len(dbin)):\n",
    "        itgDMO   = lambda zz: splev((zz**2.0+dbin[i]**2.0)**0.5,densDMO_tck,ext=0)\n",
    "        Sig_DMO += [2.0*quad(itgDMO,0,max(dbin),limit=200)[0]]\n",
    "        itgDMB   = lambda zz: splev((zz**2.0+dbin[i]**2.0)**0.5,densDMB_tck,ext=0)\n",
    "        Sig_DMB += [2.0*quad(itgDMB,min(dbin),max(dbin),limit=200)[0]]\n",
    "\n",
    "    Sig_DMO = np.array(Sig_DMO)\n",
    "    Sig_DMB = np.array(Sig_DMB)\n",
    "\n",
    "\n",
    "    cumSigDMO_tck = splrep(dbin, Sig_DMO)\n",
    "    cumSigDMB_tck = splrep(dbin, Sig_DMB)\n",
    "\n",
    "    for i in range(len(dbin)):\n",
    "        itgDMO = lambda dd: dd*splev(dd,cumSigDMO_tck)\n",
    "        avSig_DMO += [quad(itgDMO,0,dbin[i])[0]*2.0/dbin[i]**2.0]\n",
    "        itgDMB = lambda dd: dd*splev(dd,cumSigDMB_tck)\n",
    "        avSig_DMB += [quad(itgDMB,0,dbin[i])[0]*2.0/dbin[i]**2.0]\n",
    "\n",
    "    avSig_DMO = np.array(avSig_DMO)\n",
    "    avSig_DMB = np.array(avSig_DMB)\n",
    "    \n",
    "    \n",
    "    deltaSigmaDMO = avSig_DMO-Sig_DMO   #(Msun/h) / Mpc^2\n",
    "    deltaSigmaDMB = avSig_DMB-Sig_DMB\n",
    "    \n",
    "    return deltaSigmaDMB, deltaSigmaDMO, deltaSigmaDMB / deltaSigmaDMO\n"
   ]
  },
  {
   "cell_type": "code",
   "execution_count": 5,
   "metadata": {},
   "outputs": [],
   "source": [
    "par = bfc.par()\n",
    "\n",
    "par.baryon.eta_tot = 0.32\n",
    "par.baryon.eta_cga = 0.6\n",
    "\n",
    "par.files.transfct = '/Users/fardila/Documents/GitHub/baryonification/baryonification/files/CDM_PLANCK_tk.dat'"
   ]
  },
  {
   "cell_type": "code",
   "execution_count": 155,
   "metadata": {},
   "outputs": [],
   "source": [
    "N_rbin = 100\n",
    "rbin = np.logspace(np.log10(0.001),np.log10(50),N_rbin,base=10)\n",
    "\n",
    "#halo params\n",
    "Mv=1e14\n",
    "cv=cvir_fct(Mv)\n",
    "\n",
    "#baryon params\n",
    "Mc   = 6.6e13\n",
    "mu   = 0.21\n",
    "thej = 4.0"
   ]
  },
  {
   "cell_type": "code",
   "execution_count": 156,
   "metadata": {},
   "outputs": [
    {
     "data": {
      "text/plain": [
       "6.776415076106749"
      ]
     },
     "execution_count": 156,
     "metadata": {},
     "output_type": "execute_result"
    }
   ],
   "source": [
    "cv"
   ]
  },
  {
   "cell_type": "code",
   "execution_count": 157,
   "metadata": {},
   "outputs": [
    {
     "name": "stdout",
     "output_type": "stream",
     "text": [
      "Normalizing power-spectrum done!\n"
     ]
    }
   ],
   "source": [
    "#2h term\n",
    "vc_r, vc_m, vc_bias, vc_corr = bfc.cosmo(par)\n",
    "bias_tck = splrep(vc_m, vc_bias, s=0)\n",
    "corr_tck = splrep(vc_r, vc_corr, s=0)\n",
    "\n",
    "cosmo_bias = splev(Mv,bias_tck)\n",
    "cosmo_corr = splev(rbin,corr_tck)"
   ]
  },
  {
   "cell_type": "code",
   "execution_count": 158,
   "metadata": {},
   "outputs": [],
   "source": [
    "frac, dens, mass = bfc.profiles(rbin,Mv,cv,Mc,mu,thej,cosmo_corr,cosmo_bias,par)\n"
   ]
  },
  {
   "cell_type": "code",
   "execution_count": 159,
   "metadata": {},
   "outputs": [],
   "source": [
    "profileDMO = dens['DMO']\n",
    "profileDMB = dens['DMB']\n"
   ]
  },
  {
   "cell_type": "code",
   "execution_count": 160,
   "metadata": {},
   "outputs": [],
   "source": [
    "deltaSigmaDMB, deltaSigmaDMO, ratio = DeltaSigmas_from_density_profile(rbin,dens)"
   ]
  },
  {
   "cell_type": "code",
   "execution_count": 161,
   "metadata": {},
   "outputs": [
    {
     "data": {
      "text/plain": [
       "[<matplotlib.lines.Line2D at 0x7f93b89c5748>]"
      ]
     },
     "execution_count": 161,
     "metadata": {},
     "output_type": "execute_result"
    },
    {
     "data": {
      "image/png": "[encoded data removed]",
      "text/plain": [
       "<Figure size 432x288 with 1 Axes>"
      ]
     },
     "metadata": {
      "needs_background": "light"
     },
     "output_type": "display_data"
    }
   ],
   "source": [
    "plt.loglog(rbin,deltaSigmaDMB)\n",
    "plt.loglog(rbin,deltaSigmaDMO)"
   ]
  },
  {
   "cell_type": "code",
   "execution_count": 162,
   "metadata": {},
   "outputs": [
    {
     "data": {
      "image/png": "[encoded data removed]",
      "text/plain": [
       "<Figure size 432x288 with 1 Axes>"
      ]
     },
     "metadata": {
      "needs_background": "light"
     },
     "output_type": "display_data"
    }
   ],
   "source": [
    "plt.semilogx(rbin, ratio, label=label)\n",
    "plt.axhline(1, color='k')\n",
    "plt.xlabel('r [Mpc/h]')\n",
    "plt.ylabel(r'$\\Delta \\Sigma_{baryons} / \\Delta \\Sigma_{DM}$')\n",
    "plt.ylim([0.75,1.1])\n",
    "plt.xlim([0.05,20])\n",
    "plt.show()"
   ]
  },
  {
   "cell_type": "markdown",
   "metadata": {},
   "source": [
    "Note: shape of profiles and ratios very dependent on choice of bins"
   ]
  }
 ],
 "metadata": {
  "kernelspec": {
   "display_name": "Python 3",
   "language": "python",
   "name": "python3"
  },
  "language_info": {
   "codemirror_mode": {
    "name": "ipython",
    "version": 3
   },
   "file_extension": ".py",
   "mimetype": "text/x-python",
   "name": "python",
   "nbconvert_exporter": "python",
   "pygments_lexer": "ipython3",
   "version": "3.7.3"
  }
 },
 "nbformat": 4,
 "nbformat_minor": 2
}
