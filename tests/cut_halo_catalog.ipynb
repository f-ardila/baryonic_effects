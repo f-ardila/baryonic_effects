{
 "cells": [
  {
   "cell_type": "code",
   "execution_count": 1,
   "metadata": {},
   "outputs": [],
   "source": [
    "import numpy as np\n",
    "import matplotlib.pyplot as plt\n",
    "\n"
   ]
  },
  {
   "cell_type": "markdown",
   "metadata": {},
   "source": [
    "# Cutting the halo catalog to reduce the number of halos to loop over and reduce script time.\n",
    "\n",
    "## According to Song, it is safe to make a cut at Mpeak >10^13 Msun"
   ]
  },
  {
   "cell_type": "code",
   "execution_count": 2,
   "metadata": {},
   "outputs": [],
   "source": [
    "data_location = '/Users/fardila/Documents/Data/baryonic_effects/input/halo_catalogs/'\n",
    "file = 'um_smdpl_insitu_exsitu_0.7124_basic_logmp_11.5.npy'"
   ]
  },
  {
   "cell_type": "code",
   "execution_count": 8,
   "metadata": {},
   "outputs": [
    {
     "name": "stdout",
     "output_type": "stream",
     "text": [
      "1557939\n"
     ]
    }
   ],
   "source": [
    "halo_cat = np.load(data_location+file)\n",
    "print(len(halo_cat))"
   ]
  },
  {
   "cell_type": "code",
   "execution_count": 9,
   "metadata": {},
   "outputs": [
    {
     "name": "stdout",
     "output_type": "stream",
     "text": [
      "45594\n"
     ]
    }
   ],
   "source": [
    "halo_cat = halo_cat[halo_cat['logmh_peak']>13]\n",
    "print(len(halo_cat))"
   ]
  },
  {
   "cell_type": "code",
   "execution_count": 11,
   "metadata": {},
   "outputs": [],
   "source": [
    "np.save(data_location+'um_smdpl_insitu_exsitu_0.7124_basic_logmp_11.5_cutMpeak13.npy', halo_cat)"
   ]
  },
  {
   "cell_type": "code",
   "execution_count": null,
   "metadata": {},
   "outputs": [],
   "source": []
  }
 ],
 "metadata": {
  "kernelspec": {
   "display_name": "Python 3",
   "language": "python",
   "name": "python3"
  },
  "language_info": {
   "codemirror_mode": {
    "name": "ipython",
    "version": 3
   },
   "file_extension": ".py",
   "mimetype": "text/x-python",
   "name": "python",
   "nbconvert_exporter": "python",
   "pygments_lexer": "ipython3",
   "version": "3.7.3"
  }
 },
 "nbformat": 4,
 "nbformat_minor": 2
}
