{
 "cells": [
  {
   "cell_type": "code",
   "execution_count": 9,
   "metadata": {},
   "outputs": [],
   "source": [
    "import numpy as np\n",
    "import matplotlib.pyplot as plt\n",
    "\n",
    "from halotools.mock_observables import delta_sigma, return_xyz_formatted_array\n"
   ]
  },
  {
   "cell_type": "code",
   "execution_count": 5,
   "metadata": {},
   "outputs": [],
   "source": [
    "halo_directory = '/Users/fardila/Documents/GitHub/baryonic_effects/sample_data/'\n",
    "particle_directory = '/Users/fardila/Documents/GitHub/baryonic_effects/sample_data/'\n",
    "\n",
    "halo_file = 'um_smdpl_insitu_exsitu_0.7124_basic_logmp_11.5.npy'\n",
    "particle_file = 'um_smdpl_particles_0.7124_50m.npy'"
   ]
  },
  {
   "cell_type": "code",
   "execution_count": 6,
   "metadata": {},
   "outputs": [],
   "source": [
    "halo_cat = np.load(halo_directory+halo_file)\n",
    "particle_cat = np.load(particle_directory+particle_file)"
   ]
  },
  {
   "cell_type": "code",
   "execution_count": 10,
   "metadata": {},
   "outputs": [],
   "source": [
    "halo_cat_positions = return_xyz_formatted_array(halo_cat['x'], halo_cat['y'], halo_cat['z'])"
   ]
  },
  {
   "cell_type": "code",
   "execution_count": 20,
   "metadata": {},
   "outputs": [],
   "source": [
    "particle_cat_positions = return_xyz_formatted_array([particle[0] for particle in particle_cat],\n",
    "                                                    [particle[1] for particle in particle_cat],\n",
    "                                                    [particle[2] for particle in particle_cat])"
   ]
  },
  {
   "cell_type": "code",
   "execution_count": 21,
   "metadata": {},
   "outputs": [
    {
     "data": {
      "text/plain": [
       "array([[264.013794, 221.352356, 179.84407 ],\n",
       "       [193.38446 , 119.166168,  75.965729],\n",
       "       [137.161362,  38.263012, 231.55043 ],\n",
       "       ...,\n",
       "       [ 86.266129, 331.277374,  91.410393],\n",
       "       [164.746765, 320.886475, 211.421783],\n",
       "       [232.138733,  13.699535, 388.962402]])"
      ]
     },
     "execution_count": 21,
     "metadata": {},
     "output_type": "execute_result"
    }
   ],
   "source": [
    "particle_cat_positions"
   ]
  },
  {
   "cell_type": "code",
   "execution_count": 19,
   "metadata": {},
   "outputs": [
    {
     "data": {
      "text/plain": [
       "array([[ 14.66959 ,  16.224859,  17.419121],\n",
       "       [ 12.41182 ,  18.13945 ,  16.151751],\n",
       "       [ 15.00547 ,  17.348749,  17.362949],\n",
       "       ...,\n",
       "       [385.028229, 397.415771, 391.205475],\n",
       "       [385.014954, 396.380035, 391.405884],\n",
       "       [384.858917, 396.539764, 391.481445]])"
      ]
     },
     "execution_count": 19,
     "metadata": {},
     "output_type": "execute_result"
    }
   ],
   "source": [
    "halo_cat_positions"
   ]
  },
  {
   "cell_type": "code",
   "execution_count": 17,
   "metadata": {},
   "outputs": [],
   "source": [
    "#SMDPL params: https://www.cosmosim.org/cms/simulations/smdpl/\n",
    "\n",
    "n_particles_per_dim=3840\n",
    "n_particles_tot = (n_particles_per_dim ** 3)\n",
    "downsampling_factor = (n_particles_tot / float(len(particle_cat)))\n",
    "m_particle=9.63E7 #sun/h\n",
    "box_size=400 #Mpc/h\n",
    "wl_min_r=0.08\n",
    "wl_max_r=50.0\n",
    "wl_n_bins=22\n",
    "rp_bins = np.logspace(np.log10(wl_min_r), np.log10(wl_max_r), wl_n_bins)"
   ]
  },
  {
   "cell_type": "code",
   "execution_count": null,
   "metadata": {},
   "outputs": [],
   "source": [
    "rp_mids, ds = delta_sigma(galaxies=halo_cat_positions,\n",
    "                          particles=particle_cat_positions, particle_masses=m_particle,\n",
    "                          downsampling_factor=downsampling_factor,\n",
    "                          rp_bins=rp_bins, period=box_size)"
   ]
  },
  {
   "cell_type": "code",
   "execution_count": null,
   "metadata": {},
   "outputs": [],
   "source": [
    "plt.plot(rp_mids,ds)\n",
    "\n",
    "plt.xlabel(r'$r_{\\rm p}$', fontsize=30)\n",
    "# plt.xlabel(r'$r_{\\rm p}$ ${\\rm [Mpc]}$', fontsize=30)\n",
    "plt.ylabel(r'$\\Delta\\Sigma$]$', fontsize=30)\n",
    "# plt.ylabel(r'$\\Delta\\Sigma$ $[M_{\\odot}/{\\rm pc}^2]$', fontsize=30)\n",
    "\n",
    "plt.show()"
   ]
  },
  {
   "cell_type": "code",
   "execution_count": null,
   "metadata": {},
   "outputs": [],
   "source": []
  }
 ],
 "metadata": {
  "kernelspec": {
   "display_name": "Python 3",
   "language": "python",
   "name": "python3"
  },
  "language_info": {
   "codemirror_mode": {
    "name": "ipython",
    "version": 3
   },
   "file_extension": ".py",
   "mimetype": "text/x-python",
   "name": "python",
   "nbconvert_exporter": "python",
   "pygments_lexer": "ipython3",
   "version": "3.7.3"
  }
 },
 "nbformat": 4,
 "nbformat_minor": 2
}
