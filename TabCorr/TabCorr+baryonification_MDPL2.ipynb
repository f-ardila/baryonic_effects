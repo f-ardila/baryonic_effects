{
 "cells": [
  {
   "cell_type": "markdown",
   "metadata": {},
   "source": [
    "# reading TabCorr file and applying baryonic effects"
   ]
  },
  {
   "cell_type": "code",
   "execution_count": 1,
   "metadata": {},
   "outputs": [
    {
     "name": "stderr",
     "output_type": "stream",
     "text": [
      "WARNING: AstropyDeprecationWarning: astropy.extern.six will be removed in 4.0, use the six module directly if it is still needed [astropy.extern.six]\n"
     ]
    }
   ],
   "source": [
    "import numpy as np\n",
    "\n",
    "from matplotlib import cm\n",
    "from matplotlib import colors\n",
    "import matplotlib.pyplot as plt\n",
    "\n",
    "import pandas as pd\n",
    "\n",
    "import time\n",
    "\n",
    "from scipy.interpolate import splrep, splev\n",
    "from scipy.integrate import quad\n",
    "\n",
    "from halotools.sim_manager import UserSuppliedHaloCatalog, UserSuppliedPtclCatalog,FakeSim, CachedHaloCatalog\n",
    "from halotools.mock_observables import delta_sigma, wp, return_xyz_formatted_array\n",
    "from halotools.empirical_models import NFWProfile\n",
    "from halotools.empirical_models import PrebuiltHodModelFactory, HodModelFactory\n",
    "from halotools.empirical_models import AssembiasZheng07Cens, AssembiasZheng07Sats, TrivialPhaseSpace, NFWPhaseSpace\n",
    "from halotools.utils import add_halo_hostid\n",
    "from halotools.mock_observables.surface_density.surface_density_helpers import annular_area_weighted_midpoints\n",
    "\n",
    "import baryonification as bfc\n",
    "from baryonification.useful_functions import DeltaSigmas_from_density_profile, cvir_fct\n",
    "\n",
    "from tabcorr import TabCorr\n",
    "\n",
    "from astropy.cosmology import Planck15\n"
   ]
  },
  {
   "cell_type": "code",
   "execution_count": 2,
   "metadata": {},
   "outputs": [],
   "source": [
    "data_directory = '/Users/fardila/Documents/Data/baryonic_effects/CMASS/'\n",
    "queried_halo_cat_file = 'halo_catalogs/mdpl2_hlist_0.65650_Mvir11.2.csv'\n",
    "test_halo_cat_file = 'halo_catalogs/test.csv'\n",
    "### \"row_id\",\"Mvir\",\"Rvir\",\"M200c\",\"M500c\",\"x\",\"y\",\"z\",\"scale\"\n",
    "# full_halo_cat_file = 'halo_catalogs/cut_halo_df.pkl'\n",
    "particle_cat_file = 'particle_catalogs/mdpl2_particles_0.6565_10m.dat'\n",
    "test_particle_cat_file = 'particle_catalogs/test.dat'\n",
    "### \"x\",\"y\",\"z\"\n",
    "displacedA_particle_cat_file = 'particle_catalogs/MDPL2_bfc_particles_A.out'\n",
    "displacedB_particle_cat_file = 'particle_catalogs/MDPL2_bfc_particles_B.out'\n",
    "displacedC_particle_cat_file = 'particle_catalogs/MDPL2_bfc_particles_C.out'"
   ]
  },
  {
   "cell_type": "code",
   "execution_count": 3,
   "metadata": {},
   "outputs": [],
   "source": [
    "redshift = (1./0.65650)-1. #z=0.523\n",
    "Lbox = 1000. #Mpc/h"
   ]
  },
  {
   "cell_type": "markdown",
   "metadata": {},
   "source": [
    "# read in halo catalog "
   ]
  },
  {
   "cell_type": "code",
   "execution_count": 4,
   "metadata": {},
   "outputs": [],
   "source": [
    "# halo_df = pd.read_csv(data_directory+queried_halo_cat_file)"
   ]
  },
  {
   "cell_type": "markdown",
   "metadata": {},
   "source": [
    "### read in TabCorr file"
   ]
  },
  {
   "cell_type": "code",
   "execution_count": 5,
   "metadata": {},
   "outputs": [
    {
     "name": "stderr",
     "output_type": "stream",
     "text": [
      "/Users/fardila/anaconda2/envs/baryonic_effects/lib/python3.7/site-packages/h5py/_hl/dataset.py:313: H5pyDeprecationWarning: dataset.value has been deprecated. Use dataset[()] instead.\n",
      "  \"Use dataset[()] instead.\", H5pyDeprecationWarning)\n"
     ]
    }
   ],
   "source": [
    "# We could read it in like this. Thus, we can skip the previous steps in the\n",
    "# future.\n",
    "halotab = TabCorr.read('mdpl2_tabCorr_DS.hdf5')"
   ]
  },
  {
   "cell_type": "code",
   "execution_count": 6,
   "metadata": {},
   "outputs": [],
   "source": [
    "# Now, we're ready to calculate correlation functions for a specific model.\n",
    "HOD_model = PrebuiltHodModelFactory('zheng07', redshift = redshift, cosmology=Planck15, populate=False,\n",
    "                                         secondary_haloprop_key='halo_nfw_conc')\n",
    "\n"
   ]
  },
  {
   "cell_type": "code",
   "execution_count": 7,
   "metadata": {},
   "outputs": [],
   "source": [
    "def hod_model_from_params(params, HOD_model):\n",
    "    \n",
    "    HOD_model.param_dict['logMmin'] = params[0]\n",
    "    HOD_model.param_dict['sigma_logM'] = params[1]\n",
    "    HOD_model.param_dict['logM0'] = params[2]\n",
    "    HOD_model.param_dict['logM1'] = params[3]\n",
    "    HOD_model.param_dict['alpha'] = params[4]\n",
    "    \n",
    "    return HOD_model"
   ]
  },
  {
   "cell_type": "code",
   "execution_count": 13,
   "metadata": {},
   "outputs": [],
   "source": [
    "HOD_params = [13.031,0.38,13.27,14.08,0.76] #params from https://ui.adsabs.harvard.edu/abs/2014MNRAS.444..476R/abstract\n",
    "\n",
    "HOD_model = hod_model_from_params(HOD_params, HOD_model)\n",
    "\n",
    "\n",
    "\n",
    "\n",
    "ngal, ds = halotab.predict(HOD_model)\n"
   ]
  },
  {
   "cell_type": "code",
   "execution_count": 14,
   "metadata": {},
   "outputs": [
    {
     "name": "stdout",
     "output_type": "stream",
     "text": [
      "Normalizing power-spectrum done!\n"
     ]
    }
   ],
   "source": [
    "baryonic_params = [6.6e13, 0.21, 4.0] #[Mc, mu, thej]\n",
    "\n",
    "ngal, ds_baryons = halotab.predict_with_baryons(HOD_model,baryonic_params)"
   ]
  },
  {
   "cell_type": "code",
   "execution_count": 12,
   "metadata": {},
   "outputs": [],
   "source": [
    "rbin = annular_area_weighted_midpoints(np.logspace(-1, 1, 20))"
   ]
  },
  {
   "cell_type": "code",
   "execution_count": 17,
   "metadata": {},
   "outputs": [
    {
     "data": {
      "image/png": "[encoded data removed]",
      "text/plain": [
       "<Figure size 432x288 with 1 Axes>"
      ]
     },
     "metadata": {
      "needs_background": "light"
     },
     "output_type": "display_data"
    }
   ],
   "source": [
    "plt.plot(rbin,ds)\n",
    "plt.plot(rbin, ds_baryons)\n",
    "plt.loglog()\n",
    "plt.show()"
   ]
  },
  {
   "cell_type": "markdown",
   "metadata": {},
   "source": [
    "addeed TabCorr function `predict_with_baryons` which also takes baryonic params and calculates correction factor to DS profile and returns corrected profile."
   ]
  },
  {
   "cell_type": "code",
   "execution_count": null,
   "metadata": {},
   "outputs": [],
   "source": []
  }
 ],
 "metadata": {
  "kernelspec": {
   "display_name": "Python 3",
   "language": "python",
   "name": "python3"
  },
  "language_info": {
   "codemirror_mode": {
    "name": "ipython",
    "version": 3
   },
   "file_extension": ".py",
   "mimetype": "text/x-python",
   "name": "python",
   "nbconvert_exporter": "python",
   "pygments_lexer": "ipython3",
   "version": "3.7.3"
  }
 },
 "nbformat": 4,
 "nbformat_minor": 2
}
